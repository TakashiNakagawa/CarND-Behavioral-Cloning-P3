{
 "cells": [
  {
   "cell_type": "code",
   "execution_count": null,
   "metadata": {},
   "outputs": [
    {
     "name": "stdout",
     "output_type": "stream",
     "text": [
      "Epoch 1/5\n",
      "3264/3346 [============================>.] - ETA: 0s - loss: 0.4608"
     ]
    },
    {
     "name": "stderr",
     "output_type": "stream",
     "text": [
      "/home/carnd/anaconda3/envs/carnd-term1/lib/python3.5/site-packages/keras/engine/training.py:1569: UserWarning: Epoch comprised more than `samples_per_epoch` samples, which might affect learning results. Set `samples_per_epoch` correctly to avoid this warning.\n",
      "  warnings.warn('Epoch comprised more than '\n"
     ]
    },
    {
     "name": "stdout",
     "output_type": "stream",
     "text": [
      "3456/3346 [==============================] - 7s - loss: 0.4387 - val_loss: 0.0411\n",
      "Epoch 2/5\n",
      "3456/3346 [==============================] - 5s - loss: 0.0457 - val_loss: 0.0261\n",
      "Epoch 3/5\n",
      "3456/3346 [==============================] - 5s - loss: 0.0461 - val_loss: 0.0216\n",
      "Epoch 4/5\n",
      "3456/3346 [==============================] - 5s - loss: 0.0374 - val_loss: 0.0208\n",
      "Epoch 5/5\n",
      " 384/3346 [==>...........................] - ETA: 4s - loss: 0.0248"
     ]
    }
   ],
   "source": [
    "%matplotlib inline\n",
    "import csv\n",
    "import cv2\n",
    "import numpy as np\n",
    "\n",
    "lines = []\n",
    "with open('../data/driving_log.csv') as csvfile:\n",
    "    reader = csv.reader(csvfile)\n",
    "    for line in reader:\n",
    "        lines.append(line)\n",
    "\n",
    "import sklearn.utils\n",
    "from sklearn.model_selection import train_test_split\n",
    "train_samples, validation_samples = train_test_split(lines, test_size=0.2)\n",
    "\n",
    "correction = 0.2\n",
    "\n",
    "def flip_image_angle(image, angle, images, angles):\n",
    "    images.append(cv2.flip(image, 1))\n",
    "    angles.append(angle*-1.0)\n",
    "\n",
    "def add_image_angle(image, angle, images, angles):\n",
    "    images.append(image)\n",
    "    angles.append(angle)\n",
    "    \n",
    "def add_and_flip_data(image, angle, images, angles):\n",
    "    add_image_angle(image, angle, images, angles)\n",
    "    flip_image_angle(image, angle, images, angles)\n",
    "    \n",
    "def read_image(path):\n",
    "    name = '../data/IMG/' + path.split('/')[-1]\n",
    "    return cv2.cvtColor(cv2.imread(name), cv2.COLOR_BGR2RGB)\n",
    "    \n",
    "\n",
    "def generator(samples, use_left_right_image, batch_size=32):\n",
    "    num_samples = len(samples)\n",
    "    while 1:\n",
    "        sklearn.utils.shuffle(samples, random_state=20)\n",
    "        for offset in range(0, num_samples, batch_size):\n",
    "            batch_samples = samples[offset:offset+batch_size]\n",
    "\n",
    "            images = []\n",
    "            angles = []\n",
    "            for batch_sample in batch_samples:\n",
    "                center_angle = float(batch_sample[3])                \n",
    "                add_and_flip_data(read_image(batch_sample[0]), center_angle, images, angles)\n",
    "                if use_left_right_image:\n",
    "                    add_and_flip_data(read_image(batch_sample[1]), center_angle + correction, images, angles) # left\n",
    "                    add_and_flip_data(read_image(batch_sample[2]), center_angle - correction, images, angles) # right\n",
    "                    \n",
    "            X_train = np.array(images)\n",
    "            y_train = np.array(angles)\n",
    "            yield sklearn.utils.shuffle(X_train, y_train, random_state=20)\n",
    "\n",
    "train_generator = generator(train_samples, True, batch_size=32)\n",
    "validation_generator = generator(validation_samples, False, batch_size=32)\n",
    "\n",
    "\n",
    "from keras.models import Sequential\n",
    "from keras.layers import Flatten, Dense, Lambda, Dropout, Activation, Cropping2D\n",
    "from keras.layers import Convolution2D\n",
    "from keras.layers.pooling import MaxPooling2D\n",
    "\n",
    "#https://faroit.github.io/keras-docs/1.0.1/layers/convolutional/#convolution2d\n",
    "\n",
    "model= Sequential()\n",
    "model.add(Lambda(lambda x: x / 255.0 - 0.5, input_shape=(160, 320, 3)))\n",
    "model.add(Cropping2D(cropping=((70, 25), (0, 0))))\n",
    "model.add(Convolution2D(6,5,5, activation=\"relu\"))\n",
    "model.add(MaxPooling2D())\n",
    "model.add(Convolution2D(6,5,5, activation=\"relu\"))\n",
    "model.add(MaxPooling2D())\n",
    "model.add(Dropout(0.5))\n",
    "model.add(Flatten())\n",
    "model.add(Dense(120))\n",
    "model.add(Dense(84))\n",
    "model.add(Dense(1))\n",
    "\n",
    "model.compile(loss='mse', optimizer='adam')\n",
    "# history_object = model.fit(X_train, y_train, validation_split=0.2, shuffle=True, nb_epoch=5, verbose=1)\n",
    "history_object = model.fit_generator(train_generator, samples_per_epoch = len(train_samples),\n",
    "        validation_data = validation_generator, nb_val_samples = len(validation_samples), nb_epoch=5, verbose=1)\n",
    "\n",
    "model.save('model.h5')\n",
    "\n",
    "print(history_object.history.keys())\n",
    "\n",
    "import matplotlib.pyplot as plt\n",
    "\n",
    "plt.plot(history_object.history['loss'])\n",
    "plt.plot(history_object.history['val_loss'])\n",
    "plt.title('model mean squared error loss')\n",
    "plt.ylabel('mean squared error loss')\n",
    "plt.xlabel('epoch')\n",
    "plt.legend(['training set', 'validation set'], loc='upper right')\n",
    "plt.show()\n",
    "\n",
    "        \n"
   ]
  }
 ],
 "metadata": {
  "kernelspec": {
   "display_name": "Python 3",
   "language": "python",
   "name": "python3"
  },
  "language_info": {
   "codemirror_mode": {
    "name": "ipython",
    "version": 3
   },
   "file_extension": ".py",
   "mimetype": "text/x-python",
   "name": "python",
   "nbconvert_exporter": "python",
   "pygments_lexer": "ipython3",
   "version": "3.5.2"
  },
  "widgets": {
   "state": {},
   "version": "1.1.2"
  }
 },
 "nbformat": 4,
 "nbformat_minor": 2
}
